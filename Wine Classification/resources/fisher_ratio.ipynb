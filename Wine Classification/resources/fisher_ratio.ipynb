{
 "cells": [
  {
   "cell_type": "code",
   "execution_count": 2,
   "metadata": {},
   "outputs": [],
   "source": [
    "import numpy as np\n",
    "import pandas as pd\n",
    "\n",
    "def fisher_index_calc(trainingSet, labelSet):\n",
    "    (dim1_T, dim2_T) = trainingSet.shape\n",
    "    (dim1_L, dim2_L) = labelSet.shape\n",
    "\n",
    "    # create the fisher output variable - A vector of all the features\n",
    "    fisher_ratios = np.zeros((1, dim2_T), dtype=float).flatten()\n",
    "    # It's expected that the dim1_T and dim1_L be of the same size, else this input parameters is nulled.\n",
    "    if dim1_L != dim1_T:\n",
    "        return fisher_ratios\n",
    "\n",
    "    # First extract out the number of features available.\n",
    "    # grouped both data together, and create a pandas dataframe from it.\n",
    "    train1 = pd.DataFrame(trainingSet)\n",
    "    label1 = pd.DataFrame(labelSet, columns=['LABEL'])\n",
    "    grouped = pd.concat([train1, label1], axis=1)\n",
    "\n",
    "    # fetch the number of classes\n",
    "    (no_classes, demo) = grouped.groupby('LABEL').count()[[0]].shape\n",
    "    #print grouped\n",
    "\n",
    "    # loop through all features\n",
    "    for j in range(dim2_T):\n",
    "        # the variance of the feature j\n",
    "        j_variance = np.var(trainingSet[:,j])\n",
    "        j_mean = np.mean(trainingSet[:,j])\n",
    "        j_summation = 0\n",
    "        for k in range(no_classes):\n",
    "            output = grouped.groupby('LABEL').count()[[j]]\n",
    "            k_feature_count = output.iloc[k,0]\n",
    "            # mean for class k of feature j\n",
    "            output = grouped.groupby('LABEL').mean()[[j]]\n",
    "            k_feature_mean = output.iloc[k,0]\n",
    "            currentSum = k_feature_count * np.square((k_feature_mean - j_mean))\n",
    "            j_summation = j_summation + currentSum\n",
    "        fisher_ratios[j] = j_summation / np.square(j_variance)\n",
    "\n",
    "    return fisher_ratios"
   ]
  },
  {
   "cell_type": "code",
   "execution_count": null,
   "metadata": {},
   "outputs": [],
   "source": []
  }
 ],
 "metadata": {
  "kernelspec": {
   "display_name": "Python 3",
   "language": "python",
   "name": "python3"
  },
  "language_info": {
   "codemirror_mode": {
    "name": "ipython",
    "version": 3
   },
   "file_extension": ".py",
   "mimetype": "text/x-python",
   "name": "python",
   "nbconvert_exporter": "python",
   "pygments_lexer": "ipython3",
   "version": "3.7.1"
  }
 },
 "nbformat": 4,
 "nbformat_minor": 2
}
